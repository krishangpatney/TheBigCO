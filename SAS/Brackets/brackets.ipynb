{
 "metadata": {
  "language_info": {
   "codemirror_mode": {
    "name": "ipython",
    "version": 3
   },
   "file_extension": ".py",
   "mimetype": "text/x-python",
   "name": "python",
   "nbconvert_exporter": "python",
   "pygments_lexer": "ipython3",
   "version": "3.6.6-final"
  },
  "orig_nbformat": 2,
  "kernelspec": {
   "name": "Python 3.6.6 64-bit",
   "display_name": "Python 3.6.6 64-bit",
   "metadata": {
    "interpreter": {
     "hash": "c203a93ae8b918349279460d5a85940cbd26972aa88f2c32338c4a42d47cf81f"
    }
   }
  }
 },
 "nbformat": 4,
 "nbformat_minor": 2,
 "cells": [
  {
   "cell_type": "code",
   "execution_count": 33,
   "metadata": {},
   "outputs": [],
   "source": [
    "test = \"((brackets) (in this (one)) are correct ())\"\n",
    "fail = \"((brackets in this) one are ) in correct ())\"\n",
    "\n",
    "brackets_sad = \"(brackets)(\\{lol\\})this should([fail]])\"\n",
    "brackets_happy = \"(brackets)(\\{lol\\})this should([succeed{}])\""
   ]
  },
  {
   "cell_type": "code",
   "execution_count": 34,
   "metadata": {},
   "outputs": [],
   "source": [
    "def brackets(s,open,close):\n",
    "    bracket_count = 0\n",
    "    for c in s:\n",
    "        if bracket_count<0: return False\n",
    "        if c==open:\n",
    "            bracket_count+=1\n",
    "        elif c==close:\n",
    "            bracket_count-=1\n",
    "    return True if bracket_count==0 else False\n",
    "\n",
    "def check(s,delims=[('(',')'),('[',']'),('{','}')]):\n",
    "    return all([brackets(s,*b) for b in delims])"
   ]
  },
  {
   "cell_type": "code",
   "execution_count": 35,
   "metadata": {},
   "outputs": [
    {
     "output_type": "stream",
     "name": "stdout",
     "text": [
      "True\nFalse\nFalse\nTrue\n"
     ]
    }
   ],
   "source": [
    "print(check(test)) # Succeed\n",
    "print(check(fail)) # Fail\n",
    "print(check(brackets_sad)) # Fail\n",
    "print(check(brackets_happy)) # Succeed"
   ]
  },
  {
   "cell_type": "code",
   "execution_count": null,
   "metadata": {},
   "outputs": [],
   "source": []
  }
 ]
}